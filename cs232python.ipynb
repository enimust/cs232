{
 "metadata": {
  "name": "cs232python.ipynb"
 },
 "nbformat": 3,
 "nbformat_minor": 0,
 "worksheets": [
  {
   "cells": [
    {
     "cell_type": "markdown",
     "metadata": {},
     "source": [
      "#Python Review for CS 232"
     ]
    },
    {
     "cell_type": "markdown",
     "metadata": {},
     "source": [
      "To run the code from a cell of the notebook, put the cursor inside the cell and then click the Run button (see menu at the top of page) or press Shift+Return."
     ]
    },
    {
     "cell_type": "markdown",
     "metadata": {},
     "source": [
      "##Names, variables, types\n",
      "If Java is the first language you learned, Python is a bit confusing initially, because there is no explicit variable declaration. In Python, **variables are simply names** that can be assigned to values (primitive or objects) freely without any limitations. Below is the example of the name *aString*, which initially points to a string value and then later to a float value, without raising an error."
     ]
    },
    {
     "cell_type": "code",
     "collapsed": false,
     "input": [
      "aString = \"harry potter\"\n",
      "print(type(aString))"
     ],
     "language": "python",
     "metadata": {},
     "outputs": []
    },
    {
     "cell_type": "code",
     "collapsed": false,
     "input": [
      "aString = 3.14159\n",
      "print(type(aString))"
     ],
     "language": "python",
     "metadata": {},
     "outputs": []
    },
    {
     "cell_type": "markdown",
     "metadata": {},
     "source": [
      "If you want to understand better the concept of a name associated with a value of a certain type, let's see some examples using the built-in function id(), which returns the memory address of a value or object."
     ]
    },
    {
     "cell_type": "code",
     "collapsed": false,
     "input": [
      "num = 10\n",
      "print(id(num), id(10))\n",
      "id(num) == id(10)"
     ],
     "language": "python",
     "metadata": {},
     "outputs": []
    },
    {
     "cell_type": "code",
     "collapsed": false,
     "input": [
      "# Let us now \"reassign\" a value to the variable num\n",
      "num = 20\n",
      "print(id(num), id(20))\n",
      "id(num) == id(20)"
     ],
     "language": "python",
     "metadata": {},
     "outputs": []
    },
    {
     "cell_type": "code",
     "collapsed": false,
     "input": [
      "id(10)"
     ],
     "language": "python",
     "metadata": {},
     "outputs": []
    },
    {
     "cell_type": "markdown",
     "metadata": {},
     "source": [
      "As you can see, the value 10 still exists in the memory in the same location (address). It is the name `num` that now points to another memory location, the one where the value 20 is stored. \n",
      "\n",
      "This has implications for mutable objects, such as lists or class instances, because creating a new variable that refers to an existing object, doesn't reserve new space in the memory. \n",
      "\n",
      "**What is the value of list2 in the following example:**"
     ]
    },
    {
     "cell_type": "code",
     "collapsed": false,
     "input": [
      "list1 = [1,2,3,4] \n",
      "list2 = list1 \n",
      "list1.insert(0,10) # insert at index 0 the value 10"
     ],
     "language": "python",
     "metadata": {},
     "outputs": []
    },
    {
     "cell_type": "markdown",
     "metadata": {},
     "source": [
      "`list1` and `list2` are names for the same object. "
     ]
    },
    {
     "cell_type": "markdown",
     "metadata": {},
     "source": [
      "##Booleans and implicit checking\n",
      "\n",
      "The booleans values in Python are `True` and `False` (notice the uppercase). \n",
      "Empty values of different types will evaluate to `False` when used in conditional statements or logical expressions.\n",
      "\n",
      "These values are: 0, 0.0, \"\", [], (), {}, None. \n",
      "\n",
      "Below is an example with different empty elements."
     ]
    },
    {
     "cell_type": "code",
     "collapsed": false,
     "input": [
      "values = [\"abc\", \"\", 3, 0.0, [1,2], [], {'a': 1}, {}, (10,12), (), 0, None]\n",
      "for item in values:\n",
      "    if item:\n",
      "        print(item, \"evaluates to True\")\n",
      "    else:\n",
      "        print(item, \"evaluates to False\")"
     ],
     "language": "python",
     "metadata": {},
     "outputs": []
    },
    {
     "cell_type": "markdown",
     "metadata": {},
     "source": [
      "## Indentation\n",
      "Python code uses white space **meaningfully**. If you see indented code, it is because it has some syntactic meaning. \n",
      "The example in the previous section with the `for` loop and the `if ... else` conditional is an example of required indentation. As a rule of thumb, whenever a statement ends with a colon, the next line should be indented. \n",
      "\n",
      "Indentation can be done with tabs or a consistent numbers of spaces. **Don't mix tabs and spaces in the same file.** It's better to stick with one way of doing it. Python IDEs and good text editors with syntax support for Python, perform indentation automatically."
     ]
    },
    {
     "cell_type": "markdown",
     "metadata": {},
     "source": [
      "##Using `dir()` and `help()`\n",
      "To learn about the methods and properties of an object, invoke the function `dir()` to get a list of all of them. Then, you can use `help()` with each of them individually to learn more about their use.\n",
      "\n",
      "Here is an example:"
     ]
    },
    {
     "cell_type": "code",
     "collapsed": false,
     "input": [
      "lst = [1,2,3]\n",
      "print(dir(lst)) #if I don't use print(), the list is displayed one item at a time, taking valuable space."
     ],
     "language": "python",
     "metadata": {},
     "outputs": []
    },
    {
     "cell_type": "code",
     "collapsed": false,
     "input": [
      "help(lst.count) # notice that to refer to a method of the lst object you use the dot notation."
     ],
     "language": "python",
     "metadata": {},
     "outputs": []
    },
    {
     "cell_type": "markdown",
     "metadata": {},
     "source": [
      "By using `dir()` and `help()` directly in the interactive console, you can get quick help on the fly."
     ]
    },
    {
     "cell_type": "markdown",
     "metadata": {},
     "source": [
      "##Lists\n",
      "Lists are a built-in data structure that has many interesting properties:\n",
      "1. it can store objects of different types, e.g., this is a valid list: `['a',10,\"blue\",3.14,[1,2],True, (10,20)]`\n",
      "2. it doesn't have a fixed length (we can add as many items we want)\n",
      "3. it is mutable (we can replace elements, remove them, insert new ones at any position, etc.)\n",
      "4. the `list()` function can convert certain data types (iterables) to a list automatically\n",
      "\n",
      "###Your Task\n",
      "These are the methods that can be used with a list object: 'append', 'count', 'extend', 'index', 'insert', 'pop', 'remove', 'reverse', 'sort'. Below is some code to test (enter it line by line, run it, understand what it does by printing the list after every statement). Try to **predict** the result of each line before executing it.\n",
      "\n",
      "    lst1 = [10,20,10,5,0]\n",
      "    lst1.append(100)\n",
      "    lst1.count(10) \n",
      "    lst1.extend(['a','b']) \n",
      "    lst1.index(5) \n",
      "    lst1.index(10) \n",
      "    lst1.insert(1,50) \n",
      "    lst1.pop() \n",
      "    lst1.remove(10) \n",
      "    lst1.sort() \n",
      "    lst1.reverse()"
     ]
    },
    {
     "cell_type": "code",
     "collapsed": false,
     "input": [],
     "language": "python",
     "metadata": {},
     "outputs": []
    }
   ],
   "metadata": {}
  }
 ]
}